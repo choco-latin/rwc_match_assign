{
 "cells": [
  {
   "cell_type": "markdown",
   "id": "51ff1246-5cad-4379-924f-2ccb9c97bc5b",
   "metadata": {},
   "source": [
    "On fixe une fois pour toutes:\n",
    "\n",
    "- 0: Guillaume\n",
    "- 1: Laurent\n",
    "- 2: Brice\n",
    "- 3: Rémy\n",
    "- 4: Jeoffrey\n",
    "- 5: Jérémy\n",
    "- 6: Clara"
   ]
  },
  {
   "cell_type": "code",
   "execution_count": 1,
   "id": "a35dd2e6-09fd-44d8-8900-09bda08017d8",
   "metadata": {},
   "outputs": [],
   "source": [
    "import numpy as np"
   ]
  },
  {
   "cell_type": "code",
   "execution_count": 2,
   "id": "a14957e1-586f-435c-ada7-fbc4d035b472",
   "metadata": {},
   "outputs": [],
   "source": [
    "# dates d'anniversaire Guillaume Laurent Brice Remy Jeoffrey Jeremy Clara\n",
    "seed = 8*5 + 17*11 + 12*10 + 19*2 + 16*6 + 22*8 + 10*12"
   ]
  },
  {
   "cell_type": "code",
   "execution_count": 3,
   "id": "5a96ec60-2755-4087-a745-cd76a10b8038",
   "metadata": {},
   "outputs": [],
   "source": [
    "np.random.seed(seed)"
   ]
  },
  {
   "cell_type": "code",
   "execution_count": 4,
   "id": "d62b2fd7-594b-4ab7-98e0-c6b4ec691f66",
   "metadata": {},
   "outputs": [],
   "source": [
    "def flip():\n",
    "    return True if np.random.rand() < 3/7 else False"
   ]
  },
  {
   "cell_type": "code",
   "execution_count": 5,
   "id": "163d1279-ee7b-48a3-a98e-d4c076aeb7c0",
   "metadata": {},
   "outputs": [
    {
     "name": "stdout",
     "output_type": "stream",
     "text": [
      "[4, 5, 6]\n"
     ]
    }
   ],
   "source": [
    "if flip(): # group wins with probability 3/7\n",
    "    print([4,5,6])\n",
    "else: # group loses. each remaining player wins with proba 4/7 * 3/4 = 3/7\n",
    "    score = np.random.randint(low=1, high=1000, size=4)\n",
    "    winners = np.argsort(score)[:3]\n",
    "    print(winners)"
   ]
  },
  {
   "cell_type": "code",
   "execution_count": null,
   "id": "2787a63d-4130-4982-94fd-cf4dba80e912",
   "metadata": {},
   "outputs": [],
   "source": []
  },
  {
   "cell_type": "code",
   "execution_count": null,
   "id": "d656c97a",
   "metadata": {},
   "outputs": [],
   "source": []
  }
 ],
 "metadata": {
  "kernelspec": {
   "display_name": "Python 3 (ipykernel)",
   "language": "python",
   "name": "python3"
  },
  "language_info": {
   "codemirror_mode": {
    "name": "ipython",
    "version": 3
   },
   "file_extension": ".py",
   "mimetype": "text/x-python",
   "name": "python",
   "nbconvert_exporter": "python",
   "pygments_lexer": "ipython3",
   "version": "3.11.4"
  },
  "toc": {
   "base_numbering": 1,
   "nav_menu": {},
   "number_sections": true,
   "sideBar": true,
   "skip_h1_title": true,
   "title_cell": "Table of Contents",
   "title_sidebar": "Contents",
   "toc_cell": false,
   "toc_position": {},
   "toc_section_display": true,
   "toc_window_display": false
  }
 },
 "nbformat": 4,
 "nbformat_minor": 5
}
